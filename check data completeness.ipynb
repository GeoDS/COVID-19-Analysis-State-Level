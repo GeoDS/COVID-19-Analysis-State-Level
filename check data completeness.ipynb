{
 "cells": [
  {
   "cell_type": "code",
   "execution_count": 1,
   "id": "68d3dc7a",
   "metadata": {},
   "outputs": [],
   "source": [
    "import pandas as pd"
   ]
  },
  {
   "cell_type": "code",
   "execution_count": 2,
   "id": "c34db8b3",
   "metadata": {},
   "outputs": [],
   "source": [
    "cci_before = pd.read_csv(\"./State_Contact_Index/state_2021-11-28.csv\")\n",
    "cci_after = pd.read_csv(\"./State_Contact_Index/state_2021-11-29.csv\")"
   ]
  },
  {
   "cell_type": "code",
   "execution_count": 3,
   "id": "72db92b3",
   "metadata": {},
   "outputs": [
    {
     "data": {
      "text/plain": [
       "Series([], Name: state_name, dtype: object)"
      ]
     },
     "execution_count": 3,
     "metadata": {},
     "output_type": "execute_result"
    }
   ],
   "source": [
    "pd.concat([cci_before[\"state_name\"],cci_after[\"state_name\"]]).drop_duplicates(keep=False)"
   ]
  },
  {
   "cell_type": "code",
   "execution_count": 4,
   "id": "5c1e3ea3",
   "metadata": {},
   "outputs": [],
   "source": [
    "mi_before = pd.read_csv(\"./State_Mobility_Index/state_2021-11-28.csv\")\n",
    "mi_after = pd.read_csv(\"./State_Mobility_Index/state_2021-11-29.csv\")"
   ]
  },
  {
   "cell_type": "code",
   "execution_count": 5,
   "id": "edcc82ba",
   "metadata": {},
   "outputs": [
    {
     "data": {
      "text/plain": [
       "Series([], Name: state_name, dtype: object)"
      ]
     },
     "execution_count": 5,
     "metadata": {},
     "output_type": "execute_result"
    }
   ],
   "source": [
    "pd.concat([mi_before[\"state_name\"],mi_after[\"state_name\"]]).drop_duplicates(keep=False)"
   ]
  },
  {
   "cell_type": "code",
   "execution_count": 6,
   "id": "c925e5e1",
   "metadata": {},
   "outputs": [
    {
     "name": "stdout",
     "output_type": "stream",
     "text": [
      "51 51 49 49\n"
     ]
    }
   ],
   "source": [
    "print(len(cci_before),len(cci_after),len(mi_before),len(mi_after))"
   ]
  },
  {
   "cell_type": "code",
   "execution_count": null,
   "id": "f7380aac",
   "metadata": {},
   "outputs": [],
   "source": []
  }
 ],
 "metadata": {
  "kernelspec": {
   "display_name": "Python 3 (ipykernel)",
   "language": "python",
   "name": "python3"
  },
  "language_info": {
   "codemirror_mode": {
    "name": "ipython",
    "version": 3
   },
   "file_extension": ".py",
   "mimetype": "text/x-python",
   "name": "python",
   "nbconvert_exporter": "python",
   "pygments_lexer": "ipython3",
   "version": "3.8.8"
  }
 },
 "nbformat": 4,
 "nbformat_minor": 5
}
